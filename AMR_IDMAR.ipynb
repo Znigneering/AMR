{
 "cells": [
  {
   "cell_type": "code",
   "execution_count": 150,
   "metadata": {
    "collapsed": false
   },
   "outputs": [],
   "source": [
    "import json\n",
    "import pandas as pd\n",
    "import readFile\n",
    "import numpy as np\n",
    "import pysam as ps\n",
    "import os\n",
    "from datetime import datetime"
   ]
  },
  {
   "cell_type": "code",
   "execution_count": 133,
   "metadata": {
    "collapsed": true
   },
   "outputs": [],
   "source": [
    "class CARD(object):\n",
    "    def __init__(self):\n",
    "        data = json.load(open('card/card.json'))\n",
    "        \n",
    "        resistance_variants = {}\n",
    "        rRNAs = {}\n",
    "        table = {}\n",
    "        for index in data:\n",
    "            if index[0] != '_':\n",
    "                record = data.get(str(index))\n",
    "                if record.get('model_type_id') == '40295':\n",
    "                    #snps\n",
    "                    snps = record.get('model_param').get('snp').get('param_value')\n",
    "                    #species_name with rRNA_type\n",
    "                    name = ' '.join(record.get('model_name').split()[0:3])\n",
    "                    #sequence\n",
    "                    accession,fmin,fmax,strand,sequence = next(iter(\n",
    "                            record.get('model_sequences').get('sequence').values())).get('dna_sequence').values()\n",
    "                    #ARO\n",
    "                    ARO_accession = record.get('ARO_accession')\n",
    "                    #add snps into the dictionary\n",
    "                    a = resistance_variants.get(accession)\n",
    "                    if a is None:\n",
    "                        resistance_variants[accession] = CARD.parser_snps(snps,0,ARO_accession)\n",
    "                        rRNAs[accession] = [sequence]\n",
    "                    else:\n",
    "                        seqid = 0\n",
    "                        notFound = True\n",
    "                        for rRNA in rRNAs[accession]:\n",
    "                            if rRNA == sequence:\n",
    "                                notFound = False\n",
    "                                break\n",
    "                            seqid += 1\n",
    "                        if notFound:\n",
    "                            rRNAs[accession].append(sequence)\n",
    "                        resistance_variants[accession] = resistance_variants[accession].append(\n",
    "                            CARD.parser_snps(snps,seqid,ARO_accession), ignore_index=True)\n",
    "                    #add matched accession and species name into dictionary\n",
    "                    if table.get(accession) == None:\n",
    "                        table[accession] = name\n",
    "            self.resistance_variants = resistance_variants\n",
    "            self.rRNAs = rRNAs\n",
    "            self.table = table\n",
    "    def parser_snps(snps,seqid,ARO_accession):\n",
    "        df = []\n",
    "        for i in snps:\n",
    "            i = snps.get(i)\n",
    "            df.append([i[0],int(i[1:-1])-1,i[-1],seqid,ARO_accession,0])\n",
    "        return pd.DataFrame(data = df,columns=['prev','pos','curr','seqid','ARO_accession','total'])"
   ]
  },
  {
   "cell_type": "code",
   "execution_count": 134,
   "metadata": {
    "collapsed": false
   },
   "outputs": [],
   "source": [
    "def load_dataset(fp_mt):\n",
    "    \"\"\"\n",
    "    input: file path of mt.seq\n",
    "    output: a np array have accession, dna sequence, and rRNA type\n",
    "    \"\"\"\n",
    "    return np.array([ i for i in readFile.read_meta('test_files/mt.seq')],\n",
    "                    [('accession','<U50'),('sequence','<U400'),('type','i')])\n",
    "\n",
    "def bwa_sequences(prefix,fp_mt):\n",
    "    \"\"\"\n",
    "    input: \n",
    "        prefix of index\n",
    "        file path of meta.seq\n",
    "    output:\n",
    "        bwa.sam which has the result of alignment\n",
    "    \"\"\"\n",
    "    os.system('bwa mem bwa_index/'+prefix+' '+fp_mt+' > alignments/bwa.sam')"
   ]
  },
  {
   "cell_type": "code",
   "execution_count": 135,
   "metadata": {
    "collapsed": false,
    "scrolled": false
   },
   "outputs": [],
   "source": [
    "def build_bwa_index(method,rRNAs,prefix):\n",
    "    \"\"\"\n",
    "    input: \n",
    "        method selection\n",
    "        a list of rRNAs sequences\n",
    "        prefix of index\n",
    "    output:\n",
    "        bwa index which use to do bwa alignment\n",
    "    \"\"\"\n",
    "    if (method == 0):\n",
    "        reference_file = open('bwa_index/'+prefix+'.fna','w')\n",
    "        for i in rRNAs.items():\n",
    "            for index in range(0,len(i[1])):\n",
    "                reference_file.write('>'+i[0]+':'+str(index)+'\\n')\n",
    "                reference_file.write(i[1][index]+'\\n')\n",
    "        reference_file.close()\n",
    "        os.system('bwa index -p bwa_index/'+prefix+' bwa_index/'+prefix+'.fna')\n"
   ]
  },
  {
   "cell_type": "code",
   "execution_count": 141,
   "metadata": {
    "collapsed": true
   },
   "outputs": [],
   "source": [
    "def count_ARO(fp_sam,card):\n",
    "    \"\"\"\n",
    "    input: \n",
    "        file path of bwa.sam\n",
    "        card database\n",
    "    output:\n",
    "        count number of ARO in all the sequence\n",
    "    \"\"\"\n",
    "    sam = ps.AlignmentFile('alignments/bwa.sam','r')\n",
    "    references = [j for i in card.rRNAs.items() for j in i[1]]\n",
    "    for i in sam:\n",
    "        if i.reference_id!=-1 and i.flag == 0:\n",
    "            qseq = i.query_alignment_sequence\n",
    "            rseq = references[i.reference_id]\n",
    "            rname = i.reference_name.split(':')\n",
    "            # 1-based?\n",
    "            start = i.reference_start\n",
    "            end = i.reference_end\n",
    "\n",
    "            variant = card.resistance_variants[rname[0]]\n",
    "            for j in range(0,len(variant)):\n",
    "                pos = variant.loc[j,'pos']\n",
    "                if pos < end and pos >= start and variant.loc[j,'curr'] == qseq[pos-start]:\n",
    "                    variant.loc[j,'total'] +=1\n",
    "\n",
    "    "
   ]
  },
  {
   "cell_type": "code",
   "execution_count": 158,
   "metadata": {
    "collapsed": false
   },
   "outputs": [
    {
     "name": "stdout",
     "output_type": "stream",
     "text": [
      "Loading card database......\n",
      "Loading completed (0:00:00.443942) \n",
      "Filtering rRNA......\n",
      "Filtering completed (0:00:00.000003) \n",
      "Building bwa index......\n",
      "Building completed (0:00:00.368225) \n",
      "Aligning sequences(direct alignment)......\n",
      "Alignment completed (0:00:03.557779) \n",
      "Counting snps......\n",
      "Counting completed (0:00:00.833794) \n",
      "Result is saved to snps.count file(total cost: 0:00:05.241994)\n"
     ]
    }
   ],
   "source": [
    "if __name__ == '__main__':\n",
    "    #arguments\n",
    "    fp_dataset = sys.argv[1]\n",
    "    prefix = 'card'\n",
    "    \n",
    "    timer = datetime.now()\n",
    "    #loading card database\n",
    "    print('Loading card database......')\n",
    "    start_time = datetime.now()\n",
    "    card = CARD()\n",
    "    print('Loading completed ({}) '.format(datetime.now() - start_time ))\n",
    "    #filter rRNA from dataset\n",
    "    print('Filtering rRNA......')\n",
    "    start_time = datetime.now()\n",
    "    #os.system('bash metaThing.sh '+fp_dataset)\n",
    "    print('Filtering completed ({}) '.format(datetime.now() - start_time ))\n",
    "    #build BWA index\n",
    "    print('Building bwa index......')\n",
    "    start_time = datetime.now()\n",
    "    build_bwa_index(0,card.rRNAs,prefix)\n",
    "    print('Building completed ({}) '.format(datetime.now() - start_time ))\n",
    "    #align rRNA reads\n",
    "    print('Aligning sequences(direct alignment)......')\n",
    "    start_time = datetime.now()\n",
    "    bwa_sequences(prefix,'test_files/mt.seq')\n",
    "    print('Alignment completed ({}) '.format(datetime.now() - start_time ))\n",
    "    \n",
    "    #count the number of snps in the reads\n",
    "    print('Counting snps......')\n",
    "    start_time = datetime.now()\n",
    "    count_ARO('alignments/bwa.sam',card)\n",
    "    print('Counting completed ({}) '.format(datetime.now() - start_time ))\n",
    "    \n",
    "    #save into snps.count\n",
    "    with open('snps.count','w') as fw:\n",
    "        for i in card.resistance_variants:\n",
    "            for j in card.resistance_variants.get(i).iterrows():\n",
    "                if j[1].total != 0:\n",
    "                    fw.write(j[1].prev+str(j[1].pos)+j[1].curr+'\\t'+j[1].ARO_accession+'\\t'+str(j[1].total)+\"\\n\")\n",
    "    fw.close()\n",
    "    print('Result is saved to snps.count file(total cost: {})'.format(datetime.now() - timer ))"
   ]
  },
  {
   "cell_type": "code",
   "execution_count": 156,
   "metadata": {
    "collapsed": false
   },
   "outputs": [
    {
     "name": "stdout",
     "output_type": "stream",
     "text": [
      "Loading card database.....\n",
      "Result is saved to snps.count file(total cost: 0:00:00.499347)\n"
     ]
    }
   ],
   "source": []
  },
  {
   "cell_type": "code",
   "execution_count": null,
   "metadata": {
    "collapsed": true
   },
   "outputs": [],
   "source": []
  }
 ],
 "metadata": {
  "kernelspec": {
   "display_name": "Python 3",
   "language": "python",
   "name": "python3"
  },
  "language_info": {
   "codemirror_mode": {
    "name": "ipython",
    "version": 3
   },
   "file_extension": ".py",
   "mimetype": "text/x-python",
   "name": "python",
   "nbconvert_exporter": "python",
   "pygments_lexer": "ipython3",
   "version": "3.6.3"
  }
 },
 "nbformat": 4,
 "nbformat_minor": 2
}
