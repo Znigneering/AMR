{
 "cells": [
  {
   "cell_type": "code",
   "execution_count": 193,
   "metadata": {
    "collapsed": true
   },
   "outputs": [],
   "source": [
    "import json\n",
    "import pandas as pd\n",
    "import readFile\n",
    "import numpy as np\n",
    "import os\n",
    "import pysam as ps\n",
    "from datetime import datetime"
   ]
  },
  {
   "cell_type": "code",
   "execution_count": 167,
   "metadata": {
    "collapsed": true
   },
   "outputs": [],
   "source": [
    "class CARD(object):\n",
    "    def __init__(self):\n",
    "        data = json.load(open('card/card.json'))\n",
    "        \n",
    "        resistance_variants = {}\n",
    "        rRNAs = {}\n",
    "        table = {}\n",
    "        for index in data:\n",
    "            if index[0] != '_':\n",
    "                record = data.get(str(index))\n",
    "                if record.get('model_type_id') == '40295':\n",
    "                    #snps\n",
    "                    snps = record.get('model_param').get('snp').get('param_value')\n",
    "                    #species_name with rRNA_type\n",
    "                    name = ' '.join(record.get('model_name').split()[0:3])\n",
    "                    #sequence\n",
    "                    accession,fmin,fmax,strand,sequence = next(iter(\n",
    "                            record.get('model_sequences').get('sequence').values())).get('dna_sequence').values()\n",
    "                    #ARO\n",
    "                    ARO_accession = record.get('ARO_accession')\n",
    "                    #add snps into the dictionary\n",
    "                    a = resistance_variants.get(accession)\n",
    "                    if a is None:\n",
    "                        resistance_variants[accession] = CARD.parser_snps(snps,0,ARO_accession)\n",
    "                        rRNAs[accession] = [sequence]\n",
    "                    else:\n",
    "                        seqid = 0\n",
    "                        notFound = True\n",
    "                        for rRNA in rRNAs[accession]:\n",
    "                            if rRNA == sequence:\n",
    "                                notFound = False\n",
    "                                break\n",
    "                            seqid += 1\n",
    "                        if notFound:\n",
    "                            rRNAs[accession].append(sequence)\n",
    "                        resistance_variants[accession] = resistance_variants[accession].append(\n",
    "                            CARD.parser_snps(snps,seqid,ARO_accession), ignore_index=True)\n",
    "                    #add matched accession and species name into dictionary\n",
    "                    if table.get(accession) == None:\n",
    "                        table[accession] = name\n",
    "            self.resistance_variants = resistance_variants\n",
    "            self.rRNAs = rRNAs\n",
    "            self.table = table\n",
    "    def parser_snps(snps,seqid,ARO_accession):\n",
    "        df = []\n",
    "        for i in snps:\n",
    "            i = snps.get(i)\n",
    "            df.append([i[0],int(i[1:-1])-1,i[-1],seqid,ARO_accession,0])\n",
    "        return pd.DataFrame(data = df,columns=['prev','pos','curr','seqid','ARO_accession','total'])"
   ]
  },
  {
   "cell_type": "code",
   "execution_count": null,
   "metadata": {
    "collapsed": true
   },
   "outputs": [],
   "source": []
  },
  {
   "cell_type": "code",
   "execution_count": 168,
   "metadata": {
    "collapsed": false
   },
   "outputs": [],
   "source": [
    "card = CARD()"
   ]
  },
  {
   "cell_type": "code",
   "execution_count": 171,
   "metadata": {
    "collapsed": false,
    "scrolled": true
   },
   "outputs": [
    {
     "data": {
      "text/plain": [
       "1498"
      ]
     },
     "execution_count": 171,
     "metadata": {},
     "output_type": "execute_result"
    }
   ],
   "source": [
    "a = card.resistance_variants['U00096']\n",
    "a.loc[0,'pos']"
   ]
  },
  {
   "cell_type": "code",
   "execution_count": 15,
   "metadata": {
    "collapsed": false
   },
   "outputs": [],
   "source": [
    "references = [j for i in card.rRNAs.items() for j in i[1]]"
   ]
  },
  {
   "cell_type": "code",
   "execution_count": 172,
   "metadata": {
    "collapsed": false
   },
   "outputs": [],
   "source": [
    "sam = ps.AlignmentFile('alignments/bwa.sam','r')\n",
    "for i in sam:\n",
    "    if i.reference_id!=-1 and i.flag == 0:\n",
    "        qseq = i.query_alignment_sequence\n",
    "        rseq = references[i.reference_id]\n",
    "        rname = i.reference_name.split(':')\n",
    "        # 1-based?\n",
    "        start = i.reference_start\n",
    "        end = i.reference_end\n",
    "        \n",
    "        variant = card.resistance_variants[rname[0]]\n",
    "        for j in range(0,len(variant)):\n",
    "            pos = variant.loc[j,'pos']\n",
    "            if pos < end and pos >= start and variant.loc[j,'curr'] == qseq[pos-start]:\n",
    "                variant.loc[j,'total'] +=1\n",
    "        "
   ]
  },
  {
   "cell_type": "code",
   "execution_count": 12,
   "metadata": {
    "collapsed": true
   },
   "outputs": [
    {
     "data": {
      "text/plain": [
       "'AATAACGAAGAGTTTGATCCTGGCTTAGAACTAACGCTGGCAGTGCGTCTTAAGCATGCAAGTCAAACGGGATGTAGCAATACATTCAGTGGCGAACGGGTGAGTAACGCGTGGATGATCTACCTATGAGATGGGGATAACTATTAGAAATAGTAGCTAATACCGAATAAGGTCAGTTAATTTGTTAATTGATGAAAGGAAGCCTTTAAACGTTCGCTTGTAGATGAGTCTGCGTCTTATTAGCTAGTTGGTAGGGTAAATGCCTACCAAGGCAATGATAAGTAACCGGCCTGAGAGGGTGAACGGTCACACTGGAACTGAGATACGGTCCAGNCTCCTACGGGAGGCAGCAGCTAAGAATCTTCCGCAATGGGCGAAAGCCTGACGGAGCGACACTGCGTGAATGAAGAAGGTCGAAAGATTGTAAAATTCTTTTATAAATGAGGAATAAGCTTTGTAGGAAATGACAAAGTGATGACGTTAATTTATGAATAAGCCCCGGCTAATTACGTGCCAGNAGCCGCGGTAATACGTAAGGGNNNAGCGTTGTTCGGGATTATTGGGCGTAAAGGGTGAGTAGGCGGATATATAAGTCTATGCATAAAATACCACAGCTCAACTGTGGACCTATGTTGGAAACTATATGTCTAGAGTCTGATAGAGGAAGTTAGAATTTCTGGTGTAAGGGTGGAATCTGTTGATATCAGAAAGAATACCGGAGGCGAAGGCGAACTTCTGGGTCAAGACTGACGCTGAGTCACGAAAGCGTAGGGAGCAAACAGGATTAGATACCCTGGTAGTCTACGCTGTAAACGATGCACACTTGGTGTTAACTAAAAGTTAGTACCGAAGCTAACGTGTTAAGTGTGCAGCCTGGGGAGTATGCTCGCAAGAGNGAAACTCAAAGGNATTNANNNGNGCCNGCACAAGNNGTGGAGCATGTGGTTTNNNNNNANNNTACGCGAGGAACCTTACCAGGGCTTGACATATATAGGATATAGTTAGAGATAATTATTCCCCGTTTGGGGTCTATATACAGGTGCTGCATGGTTGTCGTCAGCTCGTGCTGTGAGGTGTTGGGTTAAGTCCCGCAACGAGCGCAACCCTTGTTATCTGTTACCAGCATGTAATGGTGGGGACTCAGATAAGACTGCCGGTGATAAGTCGGAGGAAGGTGAGGATGACGTCAAATCATCATGGCCCTTATGTCCTGGGCTACACACGTGCTACAATGGCCTGTACAAAGCGAAGCGAAACAGTGATGTGAAGCAAAACGCATAAAGCAGGTCTCAGTCCGGATTGAAGTCTGAAACTCGACTTCATGAAGTTGGAATCGCTAGTAATCGTATATCAGAATGATACGGTGAATACGTTCTCGGGCNTTGTACACACCGCCCGTCACACCACCCGAGTTGAGGATACCCGAAGCTATTATTCTAACCCGTAAGGGAGGAAGGTATTTAAGGTATGTTTAGCA'"
      ]
     },
     "execution_count": 12,
     "metadata": {},
     "output_type": "execute_result"
    }
   ],
   "source": [
    "reads[13]"
   ]
  },
  {
   "cell_type": "code",
   "execution_count": 179,
   "metadata": {
    "collapsed": false
   },
   "outputs": [
    {
     "name": "stdout",
     "output_type": "stream",
     "text": [
      "G1067A\t3003377\t1\n",
      "G1057C\t3003410\t1\n",
      "C1401A\t3003436\t5\n",
      "G1474A\t3003547\t16\n",
      "G1474A\t3003546\t16\n",
      "U1481C\t3003539\t10\n",
      "U1388C\t3003539\t11\n",
      "U1347C\t3003540\t2\n",
      "G1064C\t3003497\t2\n",
      "A2329T\t3004138\t1\n",
      "G2293A\t3004161\t12\n",
      "G2294A\t3004161\t11\n",
      "A2273G\t3004164\t3\n",
      "A2265G\t3004166\t1\n",
      "A2662C\t3004174\t10\n"
     ]
    }
   ],
   "source": [
    "\n",
    "for i in card.resistance_variants:\n",
    "    for j in card.resistance_variants.get(i).iterrows():\n",
    "        if j[1].total != 0:\n",
    "            print(j[1].prev+str(j[1].pos)+j[1].curr+'\\t'+j[1].ARO_accession+'\\t'+str(j[1].total))"
   ]
  },
  {
   "cell_type": "code",
   "execution_count": 195,
   "metadata": {
    "collapsed": false
   },
   "outputs": [
    {
     "name": "stdout",
     "output_type": "stream",
     "text": [
      "Time elapsed (0:00:00.000067) \n"
     ]
    }
   ],
   "source": [
    "start_time = datetime.now() \n",
    "print('loading completed ({}) '.format(datetime.now() - start_time ))"
   ]
  },
  {
   "cell_type": "code",
   "execution_count": null,
   "metadata": {
    "collapsed": true
   },
   "outputs": [],
   "source": []
  }
 ],
 "metadata": {
  "kernelspec": {
   "display_name": "Python 3",
   "language": "python",
   "name": "python3"
  },
  "language_info": {
   "codemirror_mode": {
    "name": "ipython",
    "version": 3
   },
   "file_extension": ".py",
   "mimetype": "text/x-python",
   "name": "python",
   "nbconvert_exporter": "python",
   "pygments_lexer": "ipython3",
   "version": "3.6.3"
  }
 },
 "nbformat": 4,
 "nbformat_minor": 2
}
